{
 "cells": [
  {
   "cell_type": "markdown",
   "id": "bedaea69",
   "metadata": {},
   "source": [
    "# Python Basics"
   ]
  },
  {
   "cell_type": "markdown",
   "id": "8168a662",
   "metadata": {},
   "source": [
    " ## $\\color{red}{\\text{Objects}}$"
   ]
  },
  {
   "cell_type": "markdown",
   "id": "d70063c9",
   "metadata": {},
   "source": [
    "The Python library consists of all core elements, such as data types and built-in functions but the bulk of the Python library consists of modules. In order for you to be able to make use of modules in your own code, you first need to import those modules using the import statement.\n",
    "\n",
    "Let's first import a library called **NumPy**, which will be imported as **np** and this is just to save me some typing. "
   ]
  },
  {
   "cell_type": "code",
   "execution_count": 10,
   "id": "4653bb5b",
   "metadata": {},
   "outputs": [],
   "source": [
    "#Importing Numpy\n",
    "import numpy as np"
   ]
  },
  {
   "cell_type": "markdown",
   "id": "9431685b",
   "metadata": {},
   "source": [
    " Two arrays, $x$ and $y$, of three numbers will be defined. "
   ]
  },
  {
   "cell_type": "code",
   "execution_count": 11,
   "id": "e631fe50",
   "metadata": {},
   "outputs": [],
   "source": [
    "#Define array x\n",
    "x = np.array([1,3,5])\n",
    "\n",
    "#Define array y\n",
    "y = np.array([1,5,9])"
   ]
  },
  {
   "cell_type": "markdown",
   "id": "a8f7b39f",
   "metadata": {},
   "source": [
    "Now both of these objects are NumPy arrays. That means they both support the same methods and have the same attributes available."
   ]
  },
  {
   "cell_type": "markdown",
   "id": "3d31cede",
   "metadata": {},
   "source": [
    "### $\\color{blue}{\\text{Methods}}$ \n",
    "To know the mean of the numbers in $x$, you would simply ask Python to return that. Here, the mean method will be called, which is connected to the object $x$. I can do the same exact thing for object $y$. They turn out to have different means in this case, but in both cases the mean method is available to use for both."
   ]
  },
  {
   "cell_type": "code",
   "execution_count": 12,
   "id": "633eb17a",
   "metadata": {},
   "outputs": [
    {
     "data": {
      "text/plain": [
       "3.0"
      ]
     },
     "execution_count": 12,
     "metadata": {},
     "output_type": "execute_result"
    }
   ],
   "source": [
    "#Calculate the mean of array x\n",
    "x.mean()"
   ]
  },
  {
   "cell_type": "code",
   "execution_count": 13,
   "id": "3dd81f0f",
   "metadata": {},
   "outputs": [
    {
     "data": {
      "text/plain": [
       "5.0"
      ]
     },
     "execution_count": 13,
     "metadata": {},
     "output_type": "execute_result"
    }
   ],
   "source": [
    "#Calculate the mean of array y\n",
    "y.mean()"
   ]
  },
  {
   "cell_type": "markdown",
   "id": "6bd72f53",
   "metadata": {},
   "source": [
    "### $\\color{blue}{\\text{Data Attributes}}$ \n",
    "Let's look at an example of a data attribute. If I type $x$.shape, Python is telling me that this array contains three numbers. Similarly, this can be done for object $y$ where there are three elements embedded in it."
   ]
  },
  {
   "cell_type": "code",
   "execution_count": 14,
   "id": "058bc576",
   "metadata": {},
   "outputs": [
    {
     "data": {
      "text/plain": [
       "(3,)"
      ]
     },
     "execution_count": 14,
     "metadata": {},
     "output_type": "execute_result"
    }
   ],
   "source": [
    "#Find out the shape of array x (i.e., how many rows and columns it contains)\n",
    "x.shape"
   ]
  },
  {
   "cell_type": "code",
   "execution_count": 15,
   "id": "21a86e39",
   "metadata": {},
   "outputs": [
    {
     "data": {
      "text/plain": [
       "(3,)"
      ]
     },
     "execution_count": 15,
     "metadata": {},
     "output_type": "execute_result"
    }
   ],
   "source": [
    "#Find out the shape of array y (i.e., how many rows and columns it contains)\n",
    "y.shape"
   ]
  },
  {
   "cell_type": "markdown",
   "id": "82107e84",
   "metadata": {},
   "source": [
    "$\\color{Green}{\\text{NB}}$: Notice in the first case, when Python was asked to compute a value, two parentheses were following the name of the attribute. That means **mean** is a function (or a method). In contrast, when Python was asked to return the shape of the array, no parentheses were following the word shape. That means **shape** is a data attribute."
   ]
  },
  {
   "cell_type": "markdown",
   "id": "93fca9df",
   "metadata": {},
   "source": [
    " ## $\\color{red}{\\text{Modules and Methods}}$"
   ]
  },
  {
   "cell_type": "code",
   "execution_count": 16,
   "id": "dd4cc054",
   "metadata": {},
   "outputs": [],
   "source": [
    "#Importing \"math\" module\n",
    "import math"
   ]
  },
  {
   "cell_type": "code",
   "execution_count": 17,
   "id": "f8dd86a3",
   "metadata": {},
   "outputs": [],
   "source": [
    "#Choosing only \"pi\" method from \"math\" mdoule\n",
    "from math import pi"
   ]
  },
  {
   "cell_type": "code",
   "execution_count": 19,
   "id": "047fcfa9",
   "metadata": {},
   "outputs": [],
   "source": [
    "#To list all the methods (functions) availble in the given module\n",
    "dir(math)"
   ]
  },
  {
   "cell_type": "markdown",
   "id": "5040b24c",
   "metadata": {},
   "source": [
    "# Scalars, Vectors and Matrices"
   ]
  },
  {
   "cell_type": "markdown",
   "id": "895bbfad",
   "metadata": {},
   "source": [
    "##  $\\color{red}{\\text{Scalars}}$\n",
    "A scalar is a single number. For example temperature, distance, speed, or mass – all these quantities have a magnitude and can be defined as a single number. "
   ]
  },
  {
   "cell_type": "code",
   "execution_count": 32,
   "id": "04a7cf04",
   "metadata": {},
   "outputs": [
    {
     "data": {
      "text/plain": [
       "4.5"
      ]
     },
     "metadata": {},
     "output_type": "display_data"
    },
    {
     "data": {
      "text/plain": [
       "0.5"
      ]
     },
     "metadata": {},
     "output_type": "display_data"
    },
    {
     "data": {
      "text/plain": [
       "5.0"
      ]
     },
     "metadata": {},
     "output_type": "display_data"
    },
    {
     "data": {
      "text/plain": [
       "0.8"
      ]
     },
     "metadata": {},
     "output_type": "display_data"
    },
    {
     "data": {
      "text/plain": [
       "0.0"
      ]
     },
     "metadata": {},
     "output_type": "display_data"
    },
    {
     "data": {
      "text/plain": [
       "5.656854249492381"
      ]
     },
     "metadata": {},
     "output_type": "display_data"
    },
    {
     "data": {
      "text/plain": [
       "2.0"
      ]
     },
     "metadata": {},
     "output_type": "display_data"
    },
    {
     "data": {
      "text/plain": [
       "5.0"
      ]
     },
     "metadata": {},
     "output_type": "display_data"
    },
    {
     "data": {
      "text/plain": [
       "3.0"
      ]
     },
     "metadata": {},
     "output_type": "display_data"
    }
   ],
   "source": [
    "#Integers and float numbers\n",
    "x = 2 #Define an integer\n",
    "y = 2.5 #Define a float\n",
    "#Basic Operations\n",
    "display(x+y)  #Addition\n",
    "display(y-x)  #Subtraction\n",
    "display(x*y)  #Multiplication\n",
    "display(x/y)  #Division\n",
    "display(x//y) #Floor division\n",
    "display(x**y) #Exponentiation\n",
    "\n",
    "#Importing \"cmath\" for complex number operations\n",
    "import cmath\n",
    "# Initializing real numbers\n",
    "x = 5\n",
    "y = 3\n",
    "# converting x and y into complex number\n",
    "z = complex(x,y);\n",
    "# display the real and imaginary part of complex number\n",
    "display(z.real)\n",
    "display(z.imag)\n"
   ]
  },
  {
   "cell_type": "markdown",
   "id": "b88a29ac",
   "metadata": {},
   "source": [
    "##  $\\color{red}{\\text{Vectors}}$\n",
    "A vector is an array of numbers. A vector is an arrow representing a quantity that has both magnitude and direction wherein the length of the arrow represents the magnitude and the orientation tells you the direction. For example wind, which has a direction and magnitude."
   ]
  },
  {
   "cell_type": "code",
   "execution_count": 1,
   "id": "f971dae1",
   "metadata": {},
   "outputs": [],
   "source": [
    "#Import numpy package\n",
    "import numpy as np"
   ]
  },
  {
   "cell_type": "code",
   "execution_count": 12,
   "id": "285eb3d6",
   "metadata": {},
   "outputs": [
    {
     "data": {
      "text/plain": [
       "array([1, 2, 3])"
      ]
     },
     "metadata": {},
     "output_type": "display_data"
    },
    {
     "data": {
      "text/plain": [
       "matrix([[1, 2, 3]])"
      ]
     },
     "metadata": {},
     "output_type": "display_data"
    }
   ],
   "source": [
    "#Equivalent ways to create a row vector\n",
    "x1 = np.array([1,2,3])\n",
    "x2 = np.matrix([1,2,3])\n",
    "\n",
    "display(x1) #show vector x1\n",
    "display(x2) #show vector x2\n"
   ]
  },
  {
   "cell_type": "code",
   "execution_count": 13,
   "id": "853a6d5a",
   "metadata": {},
   "outputs": [
    {
     "data": {
      "text/plain": [
       "array([[1],\n",
       "       [2],\n",
       "       [3]])"
      ]
     },
     "metadata": {},
     "output_type": "display_data"
    },
    {
     "data": {
      "text/plain": [
       "matrix([[1],\n",
       "        [2],\n",
       "        [3]])"
      ]
     },
     "metadata": {},
     "output_type": "display_data"
    }
   ],
   "source": [
    "#Equivalent ways to create a column vector\n",
    "y1 = np.array([[1],[2],[3]]) # notice that each row is in square brackets\n",
    "y2 = np.matrix([[1],[2],[3]])\n",
    "\n",
    "display(y1) #show vector y2\n",
    "display(y2) #show vector y3"
   ]
  },
  {
   "cell_type": "code",
   "execution_count": 14,
   "id": "8d206cae",
   "metadata": {},
   "outputs": [
    {
     "data": {
      "text/plain": [
       "array([0, 1, 2, 3, 4, 5, 6, 7, 8, 9])"
      ]
     },
     "metadata": {},
     "output_type": "display_data"
    },
    {
     "data": {
      "text/plain": [
       "array([0, 1, 2, 3, 4, 5, 6, 7, 8, 9])"
      ]
     },
     "metadata": {},
     "output_type": "display_data"
    },
    {
     "data": {
      "text/plain": [
       "array([0, 2, 4, 6, 8])"
      ]
     },
     "metadata": {},
     "output_type": "display_data"
    }
   ],
   "source": [
    "#Create a vector within a range [a,b], where a is the start of the range, and b is the end+1.\n",
    "z1 = np.arange(0,10) #0 is the start, and 10 is the end+1\n",
    "z2 = np.arange(0,10,1) #0 is the start, 10 is the end+1, 1 is the step taken between each value.\n",
    "z3 = np.arange(0,9,2) #0 is the start, 9 is the end+1, 2 is the step taken between each value.\n",
    "\n",
    "display(z1) #show vector z1\n",
    "display(z2) #show vector z2\n",
    "display(z3) #show vector z3"
   ]
  },
  {
   "cell_type": "markdown",
   "id": "6b4b60ce",
   "metadata": {},
   "source": [
    "##  $\\color{red}{\\text{Matrices}}$\n",
    "A matrix is a $2$D array. In other words, a matrix is a collection of $m$ rows (its height) and $n$ columns (its width) of data."
   ]
  },
  {
   "cell_type": "code",
   "execution_count": 17,
   "id": "10e02570",
   "metadata": {},
   "outputs": [
    {
     "data": {
      "text/plain": [
       "array([[1, 2, 3],\n",
       "       [4, 5, 6],\n",
       "       [7, 8, 9]])"
      ]
     },
     "metadata": {},
     "output_type": "display_data"
    }
   ],
   "source": [
    "#Create a 3x3 matrix: 3 rows and 3 columns\n",
    "A = np.array([[1,2,3],[4,5,6],[7,8,9]])\n",
    "\n",
    "display(A) #show matrix A"
   ]
  },
  {
   "cell_type": "code",
   "execution_count": 19,
   "id": "75d1f4e9",
   "metadata": {},
   "outputs": [
    {
     "data": {
      "text/plain": [
       "6"
      ]
     },
     "metadata": {},
     "output_type": "display_data"
    },
    {
     "data": {
      "text/plain": [
       "array([4, 5, 6])"
      ]
     },
     "metadata": {},
     "output_type": "display_data"
    },
    {
     "data": {
      "text/plain": [
       "array([3, 6, 9])"
      ]
     },
     "metadata": {},
     "output_type": "display_data"
    }
   ],
   "source": [
    "#Accessing and manipulating matrix rows, columns and elements\n",
    "a1 = A[1,2] #access the element in the 2nd row and 3rd column\n",
    "a2 = A[1,:] #access 2nd row with all its elements/columns (the colon (:) means access everything in that row)\n",
    "a3 = A[:,2] #access 3rd column with all its elements/rows (the colon (:) means access everything in that column)\n",
    "\n",
    "display(a1) #show a1\n",
    "display(a2) #show a2\n",
    "display(a3) #show a3"
   ]
  },
  {
   "cell_type": "code",
   "execution_count": 29,
   "id": "f913dde8",
   "metadata": {},
   "outputs": [
    {
     "data": {
      "text/plain": [
       "(3, 3)"
      ]
     },
     "metadata": {},
     "output_type": "display_data"
    },
    {
     "data": {
      "text/plain": [
       "9"
      ]
     },
     "metadata": {},
     "output_type": "display_data"
    },
    {
     "data": {
      "text/plain": [
       "2"
      ]
     },
     "metadata": {},
     "output_type": "display_data"
    }
   ],
   "source": [
    "#Describing matrices\n",
    "display(A.shape) #show the number of rows and columns\n",
    "\n",
    "display(A.size) #show the number of elements (rows*columns)\n",
    "\n",
    "display(A.ndim) #show the number of dimensions"
   ]
  },
  {
   "cell_type": "code",
   "execution_count": 25,
   "id": "767975ed",
   "metadata": {},
   "outputs": [
    {
     "data": {
      "text/plain": [
       "array([[11, 13, 15],\n",
       "       [17, 19, 21],\n",
       "       [23, 25, 37]])"
      ]
     },
     "metadata": {},
     "output_type": "display_data"
    },
    {
     "data": {
      "text/plain": [
       "array([[11, 13, 15],\n",
       "       [17, 19, 21],\n",
       "       [23, 25, 37]])"
      ]
     },
     "metadata": {},
     "output_type": "display_data"
    },
    {
     "data": {
      "text/plain": [
       "array([[ -9,  -9,  -9],\n",
       "       [ -9,  -9,  -9],\n",
       "       [ -9,  -9, -19]])"
      ]
     },
     "metadata": {},
     "output_type": "display_data"
    },
    {
     "data": {
      "text/plain": [
       "array([[ -9,  -9,  -9],\n",
       "       [ -9,  -9,  -9],\n",
       "       [ -9,  -9, -19]])"
      ]
     },
     "metadata": {},
     "output_type": "display_data"
    },
    {
     "data": {
      "text/plain": [
       "array([[1, 4, 7],\n",
       "       [2, 5, 8],\n",
       "       [3, 6, 9]])"
      ]
     },
     "metadata": {},
     "output_type": "display_data"
    },
    {
     "data": {
      "text/plain": [
       "array([[10, 13, 16],\n",
       "       [11, 14, 17],\n",
       "       [12, 15, 28]])"
      ]
     },
     "metadata": {},
     "output_type": "display_data"
    }
   ],
   "source": [
    "#Matrix operations\n",
    "A = np.array([[1,2,3],[4,5,6],[7,8,9]]) #Define matrix A\n",
    "B = np.array([[10,11,12],[13,14,15],[16,17,28]]) #Define matrix B\n",
    "\n",
    "#Addition\n",
    "Add1 = A+B\n",
    "Add2 = np.add(A,B)\n",
    "\n",
    "display(Add1)\n",
    "display(Add2)\n",
    "\n",
    "#Subtraction\n",
    "Sub1 = A-B\n",
    "Sub2 = np.subtract(A,B)\n",
    "\n",
    "display(Sub1)\n",
    "display(Sub2)\n",
    "\n",
    "#Transpose\n",
    "AT = A.T #Take the transpose of matrix A\n",
    "BT = B.T #Take the transpose of matrix B\n",
    "\n",
    "display(AT)\n",
    "display(BT)"
   ]
  },
  {
   "cell_type": "markdown",
   "id": "62ff684c",
   "metadata": {},
   "source": [
    "# Problem: Work\n",
    "\n",
    "Work ($W$ (J)) is the transfer of energy by a force ($\\vec{\\bf{F}}$ (N)) acting on an object as it is moved from one place to another- that is, undergoes a displacement ($\\vec{\\bf{s}}$ (m)). You do more work if the force or the displacement is greater. Mathematically, we define the work done by a constant force as the dot product of the force and displacement vectors:\n",
    "\n",
    "\\begin{equation}\n",
    "    W = \\vec{\\bf{F}} \\cdot \\vec{\\bf{s}} = |\\vec{\\bf{F}}| |\\vec{\\bf{s}}| \\cos \\phi \\quad \\quad \\quad \\mathrm{and} \\quad \\quad \\quad W = \\vec{\\bf{F}} \\cdot \\vec{\\bf{s}} = F_x s_x + F_y s_y + F_z s_z\n",
    "    \\label{WorkDotProduct}\n",
    "\\end{equation}"
   ]
  },
  {
   "cell_type": "markdown",
   "id": "4a4d6746",
   "metadata": {},
   "source": [
    "Think of a person exerting a force on a stalled car of magnitude $210$ N as he pushes it in a distance of $18$ m. The car has also a flat tire, so to make the car track straight, the person needs to push at an angle of $30^o$ to the direction of the motion. How much work does thsis person do?"
   ]
  },
  {
   "cell_type": "code",
   "execution_count": 52,
   "id": "d30cbd63",
   "metadata": {},
   "outputs": [
    {
     "data": {
      "text/plain": [
       "3273.5760263051784"
      ]
     },
     "metadata": {},
     "output_type": "display_data"
    }
   ],
   "source": [
    "#import numpy library\n",
    "import numpy as np\n",
    "\n",
    "#Define input values\n",
    "F = 210 # force magnitude in N\n",
    "s = 18 # displacement magnitude in m\n",
    "#phi = (np.pi)/6 #angle in radians between the force and the displacement vectors (30 deg)\n",
    "phi = 30*(np.pi/180) #or transform the angle from degrees to radians\n",
    "\n",
    "#Calculate work\n",
    "W = F*s*(np.cos(phi)) #in J\n"
   ]
  },
  {
   "cell_type": "markdown",
   "id": "ecd24699",
   "metadata": {},
   "source": [
    "This person needs to push a second stalled car with a steady force $ \\vec{\\bf{F}}=(160 \\mathrm{N}) \\hat{\\textit{i}} - (40 \\mathrm{N}) \\hat{\\textit{j}}$. The displacement of the car is $\\vec{\\bf{s}}=(14 \\mathrm{m})\\hat{\\textit{i}} +(11 \\mathrm{m}) \\hat{\\textit{j}}$. How much work does this person do?"
   ]
  },
  {
   "cell_type": "code",
   "execution_count": 55,
   "id": "d5b5957c",
   "metadata": {},
   "outputs": [],
   "source": [
    "#import numpy library\n",
    "import numpy as np\n",
    "\n",
    "#Define the vectors\n",
    "F = np.array([160 , -40]) #Force vector\n",
    "s = np.array([14 , 11]) #displacement vector\n",
    "\n",
    "#Calculate the sum of the products of their respective components\n",
    "W = F[0]*s[0] + F[1]*s[1] #in J\n"
   ]
  },
  {
   "cell_type": "markdown",
   "id": "22b2e979",
   "metadata": {},
   "source": [
    "\n",
    "Supoose we have the following two vectors:\n",
    "\n",
    "$$\n",
    "\\vec{\\bf{F}}=2 \\hat{\\textit{i}}+3\\hat{\\textit{j}}+1\\hat{\\textit{k}} \\quad \\quad \\quad \\mathrm{and} \\quad \\quad \\quad \\vec{\\bf{s}}=-4 \\hat{\\textit{i}}+2\\hat{\\textit{j}}-1\\hat{\\textit{k}}\n",
    "$$\n",
    "\n",
    "To Calculate the angle between them, we use the equation:\n",
    "\n",
    "$$\n",
    "\\cos \\phi = \\frac{\\vec{\\bf{F}}\\cdot \\vec{\\bf{s}}}{|\\vec{\\bf{F}}| |\\vec{\\bf{s}}|} = \\frac{F_x s_x + F_y s_y + F_z s_z}{|\\vec{\\bf{F}}| |\\vec{\\bf{s}}|} = \\frac{F_x s_x + F_y s_y + F_z s_z}{\\sqrt{F_x^2+ F_y^2 + F_z^2} \\sqrt{s_x^2+ s_y^2 + s_z^2}}\n",
    "$$"
   ]
  },
  {
   "cell_type": "code",
   "execution_count": 58,
   "id": "2f3bf815",
   "metadata": {},
   "outputs": [
    {
     "data": {
      "text/plain": [
       "-3"
      ]
     },
     "metadata": {},
     "output_type": "display_data"
    }
   ],
   "source": [
    "#import numpy\n",
    "import numpy as np\n",
    "\n",
    "#Define the vectors\n",
    "F = np.array([2,3,1])\n",
    "s = np.array([-4,2,-1])\n",
    "\n",
    "#Calculate the sum of the products of their respective components\n",
    "FTimess = F[0]*s[0] + F[1]*s[1] + F[2]*s[2]\n",
    "\n",
    "#Calculate their magnitudes\n",
    "#Vector F\n",
    "Fsquare = np.square(F) #the square of each component of vector F\n",
    "Fsum    = np.sum(Fsquare) #the sum of the squared components of F\n",
    "Fmag    = np.sqrt(Fsum) #square root of the sum\n",
    "#Vector s\n",
    "ssquare = np.square(s) #the square of each component of vector s\n",
    "ssum    = np.sum(ssquare) #the sum of the squared components of s\n",
    "smag    = np.sqrt(ssum) #square root of the sum\n",
    "\n",
    "#Calculate the cosine of the angle\n",
    "CosinePhi = FTimess / (Fmag * smag)\n",
    "\n",
    "#Calculate the angle (inverse of the cosine)\n",
    "Phi_rad = np.arccos(CosinePhi) #in radians\n",
    "Phi_deg = Phi_rad*(180/np.pi) #in degrees\n",
    "\n",
    "#We notice here that the work is negative and the angle is between 90 and 180. This means ..."
   ]
  },
  {
   "cell_type": "markdown",
   "id": "30c55280",
   "metadata": {},
   "source": [
    "# Booleans"
   ]
  },
  {
   "cell_type": "markdown",
   "id": "cd4f056a",
   "metadata": {},
   "source": [
    "Expression is a combination of objects and operators that computes a value. Many expressions involve what is known as the boolean data type. Objects of the boolean type have only two values. These are called True and False."
   ]
  },
  {
   "cell_type": "markdown",
   "id": "5d1a5755",
   "metadata": {},
   "source": [
    "##  $\\color{red}{\\text{True and False}}$"
   ]
  },
  {
   "cell_type": "code",
   "execution_count": 2,
   "id": "af27b64a",
   "metadata": {},
   "outputs": [
    {
     "data": {
      "text/plain": [
       "bool"
      ]
     },
     "execution_count": 2,
     "metadata": {},
     "output_type": "execute_result"
    }
   ],
   "source": [
    "type(True)"
   ]
  },
  {
   "cell_type": "code",
   "execution_count": 3,
   "id": "fa481e9d",
   "metadata": {},
   "outputs": [
    {
     "data": {
      "text/plain": [
       "bool"
      ]
     },
     "execution_count": 3,
     "metadata": {},
     "output_type": "execute_result"
    }
   ],
   "source": [
    "type(False)"
   ]
  },
  {
   "cell_type": "code",
   "execution_count": 4,
   "id": "339bfee9",
   "metadata": {},
   "outputs": [
    {
     "ename": "NameError",
     "evalue": "name 'false' is not defined",
     "output_type": "error",
     "traceback": [
      "\u001b[1;31m---------------------------------------------------------------------------\u001b[0m",
      "\u001b[1;31mNameError\u001b[0m                                 Traceback (most recent call last)",
      "\u001b[1;32m<ipython-input-4-5d8f55c25b5e>\u001b[0m in \u001b[0;36m<module>\u001b[1;34m\u001b[0m\n\u001b[1;32m----> 1\u001b[1;33m \u001b[0mtype\u001b[0m\u001b[1;33m(\u001b[0m\u001b[0mfalse\u001b[0m\u001b[1;33m)\u001b[0m\u001b[1;33m\u001b[0m\u001b[1;33m\u001b[0m\u001b[0m\n\u001b[0m",
      "\u001b[1;31mNameError\u001b[0m: name 'false' is not defined"
     ]
    }
   ],
   "source": [
    "type(false)"
   ]
  },
  {
   "cell_type": "markdown",
   "id": "18ba4ace",
   "metadata": {},
   "source": [
    "##  $\\color{red}{\\text{Comparison Operators}}$"
   ]
  },
  {
   "cell_type": "code",
   "execution_count": 5,
   "id": "85e06204",
   "metadata": {},
   "outputs": [
    {
     "name": "stdout",
     "output_type": "stream",
     "text": [
      "x > y is False\n",
      "x < y is True\n",
      "x == y is False\n",
      "x != y is True\n",
      "x >= y is False\n",
      "x <= y is True\n"
     ]
    }
   ],
   "source": [
    "x = 10\n",
    "y = 12\n",
    "\n",
    "# Output: x > y is False\n",
    "print('x > y is',x>y)\n",
    "\n",
    "# Output: x < y is True\n",
    "print('x < y is',x<y)\n",
    "\n",
    "# Output: x == y is False\n",
    "print('x == y is',x==y)\n",
    "\n",
    "# Output: x != y is True\n",
    "print('x != y is',x!=y)\n",
    "\n",
    "# Output: x >= y is False\n",
    "print('x >= y is',x>=y)\n",
    "\n",
    "# Output: x <= y is True\n",
    "print('x <= y is',x<=y)"
   ]
  },
  {
   "cell_type": "markdown",
   "id": "c2c7e666",
   "metadata": {},
   "source": [
    "##  $\\color{red}{\\text{Logical Operators}}$"
   ]
  },
  {
   "cell_type": "code",
   "execution_count": 6,
   "id": "3b74fdbd",
   "metadata": {},
   "outputs": [
    {
     "name": "stdout",
     "output_type": "stream",
     "text": [
      "x and y is False\n",
      "x or y is True\n",
      "not x is False\n"
     ]
    }
   ],
   "source": [
    "x = True\n",
    "y = False\n",
    "\n",
    "# Output: x and y is False\n",
    "print('x and y is',x and y)\n",
    "\n",
    "# Output: x or y is True\n",
    "print('x or y is',x or y)\n",
    "\n",
    "# Output: not x is False\n",
    "print('not x is',not x)"
   ]
  },
  {
   "cell_type": "markdown",
   "id": "7b0b8384",
   "metadata": {},
   "source": [
    "##  $\\color{red}{\\text{Identity Operators}}$"
   ]
  },
  {
   "cell_type": "code",
   "execution_count": 8,
   "id": "852f3271",
   "metadata": {},
   "outputs": [
    {
     "name": "stdout",
     "output_type": "stream",
     "text": [
      "False\n",
      "True\n",
      "False\n",
      "True\n"
     ]
    }
   ],
   "source": [
    "x1 = 5\n",
    "y1 = 5\n",
    "x2 = 'Hello'\n",
    "y2 = 'Hello'\n",
    "x3 = [1,2,3]\n",
    "y3 = [1,2,3]\n",
    "z3 = y3\n",
    "\n",
    "# Output: False\n",
    "print(x1 is not y1)\n",
    "\n",
    "# Output: True\n",
    "print(x2 is y2)\n",
    "\n",
    "# Output: False\n",
    "print(x3 is y3)\n",
    "\n",
    "# Output: True\n",
    "print(z3 is y3)"
   ]
  },
  {
   "cell_type": "markdown",
   "id": "df71a132",
   "metadata": {},
   "source": []
  },
  {
   "cell_type": "code",
   "execution_count": null,
   "id": "f1814552",
   "metadata": {},
   "outputs": [],
   "source": []
  }
 ],
 "metadata": {
  "kernelspec": {
   "display_name": "Python 3 (ipykernel)",
   "language": "python",
   "name": "python3"
  },
  "language_info": {
   "codemirror_mode": {
    "name": "ipython",
    "version": 3
   },
   "file_extension": ".py",
   "mimetype": "text/x-python",
   "name": "python",
   "nbconvert_exporter": "python",
   "pygments_lexer": "ipython3",
   "version": "3.8.12"
  }
 },
 "nbformat": 4,
 "nbformat_minor": 5
}
