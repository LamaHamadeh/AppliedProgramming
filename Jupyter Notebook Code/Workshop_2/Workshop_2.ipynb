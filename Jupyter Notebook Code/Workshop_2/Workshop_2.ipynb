{
 "cells": [
  {
   "cell_type": "markdown",
   "id": "2bf95410",
   "metadata": {},
   "source": [
    "# For Loop"
   ]
  },
  {
   "cell_type": "code",
   "execution_count": 1,
   "id": "e458ba23",
   "metadata": {},
   "outputs": [
    {
     "name": "stdout",
     "output_type": "stream",
     "text": [
      "1\n",
      "25\n",
      "144\n",
      "8281\n",
      "10404\n"
     ]
    }
   ],
   "source": [
    "#Create a list of numbers\n",
    "numbers = [1, 5, 12, 91, 102]\n",
    "\n",
    "#print the result of the square of each element\n",
    "for i in numbers:\n",
    "    print(i * i) \n",
    "    #print(i**2)"
   ]
  },
  {
   "cell_type": "code",
   "execution_count": 2,
   "id": "e6df4ed1",
   "metadata": {},
   "outputs": [
    {
     "name": "stdout",
     "output_type": "stream",
     "text": [
      "H\n",
      "e\n",
      "l\n",
      "l\n",
      "o\n",
      " \n",
      "W\n",
      "o\n",
      "r\n",
      "l\n",
      "d\n",
      "!\n"
     ]
    }
   ],
   "source": [
    "#Create a list of letters\n",
    "letters = \"Hello World!\"\n",
    "\n",
    "#print the characters one by one\n",
    "for i in letters:\n",
    "    print(i)"
   ]
  },
  {
   "cell_type": "code",
   "execution_count": 3,
   "id": "f25377cd",
   "metadata": {},
   "outputs": [
    {
     "name": "stdout",
     "output_type": "stream",
     "text": [
      "0\n",
      "1\n",
      "2\n",
      "3\n",
      "4\n",
      "5\n",
      "6\n",
      "7\n",
      "8\n",
      "9\n"
     ]
    }
   ],
   "source": [
    "#Create a range of numbers\n",
    "x = range(0,10) #Remember, Python is zero-indexed. Hence, the range starts from 0 and ends at 9 (and not 10). The step here is 1 by default.\n",
    "#x = range(0,10,2) the list here starts from 0 and goes with step 2 all the way to 9\n",
    "\n",
    "#print the numbers within the given range\n",
    "for i in x:\n",
    "    print(i)"
   ]
  },
  {
   "cell_type": "markdown",
   "id": "3399f34a",
   "metadata": {},
   "source": [
    "# If Statement"
   ]
  },
  {
   "cell_type": "code",
   "execution_count": 2,
   "id": "adf4d683",
   "metadata": {},
   "outputs": [
    {
     "name": "stdout",
     "output_type": "stream",
     "text": [
      "b is greater than a\n"
     ]
    }
   ],
   "source": [
    "#Define two different numbers\n",
    "a = 33\n",
    "b = 200\n",
    "\n",
    "#Compare both numbers using if statement\n",
    "if b > a: \n",
    "  print(\"b is greater than a\") #if the condition returns \"True\", execute this line"
   ]
  },
  {
   "cell_type": "code",
   "execution_count": 3,
   "id": "61b45c47",
   "metadata": {},
   "outputs": [
    {
     "name": "stdout",
     "output_type": "stream",
     "text": [
      "a and b are equal\n"
     ]
    }
   ],
   "source": [
    "#Define two different numbers\n",
    "a = 33\n",
    "b = 33\n",
    "\n",
    "if b > a: #first conditon\n",
    "  print(\"b is greater than a\")\n",
    "\n",
    "elif a == b: #if the previous condition was not true, try this condition\n",
    "  print(\"a and b are equal\")"
   ]
  },
  {
   "cell_type": "code",
   "execution_count": 4,
   "id": "19195861",
   "metadata": {},
   "outputs": [
    {
     "name": "stdout",
     "output_type": "stream",
     "text": [
      "a is greater than b\n"
     ]
    }
   ],
   "source": [
    "#Define two different numbers\n",
    "a = 200\n",
    "b = 33\n",
    "\n",
    "if b > a: #first conditon\n",
    "  print(\"b is greater than a\")\n",
    "elif a == b: #if the previous condition was not true, try this condition\n",
    "  print(\"a and b are equal\")\n",
    "else: #if non of the previous conditions is true, execute this code\n",
    "  print(\"a is greater than b\")"
   ]
  },
  {
   "cell_type": "code",
   "execution_count": 5,
   "id": "b6a76d84",
   "metadata": {},
   "outputs": [
    {
     "name": "stdout",
     "output_type": "stream",
     "text": [
      "b is not greater than a\n"
     ]
    }
   ],
   "source": [
    "#Define two different numbers\n",
    "a = 200\n",
    "b = 33\n",
    "\n",
    "if b > a: #first conditon\n",
    "  print(\"b is greater than a\")\n",
    "else: #if the first conditoon is not true, execute this code.\n",
    "  print(\"b is not greater than a\")"
   ]
  },
  {
   "cell_type": "markdown",
   "id": "356b4c23",
   "metadata": {},
   "source": [
    "# Nesting"
   ]
  },
  {
   "cell_type": "markdown",
   "id": "3c45c4ab",
   "metadata": {},
   "source": [
    "## $\\color{red}{\\text{Nested for loops}}$"
   ]
  },
  {
   "cell_type": "code",
   "execution_count": 26,
   "id": "6f3f9132",
   "metadata": {},
   "outputs": [
    {
     "name": "stdout",
     "output_type": "stream",
     "text": [
      "red apple\n",
      "red banana\n",
      "red cherry\n",
      "big apple\n",
      "big banana\n",
      "big cherry\n",
      "tasty apple\n",
      "tasty banana\n",
      "tasty cherry\n"
     ]
    }
   ],
   "source": [
    "#Define two lists\n",
    "adj = [\"red\", \"big\", \"tasty\"]\n",
    "fruits = [\"apple\", \"banana\", \"cherry\"]\n",
    "\n",
    "#Nest of two loops\n",
    "#Outer loop\n",
    "#to iterate through adj list\n",
    "for x in adj:\n",
    "    #inner loop\n",
    "    #to iterate through fruits list\n",
    "    for y in fruits:\n",
    "        #print all the combinations between adj and fruits lists\n",
    "        print(x, y)"
   ]
  },
  {
   "cell_type": "code",
   "execution_count": 20,
   "id": "705f0691",
   "metadata": {},
   "outputs": [
    {
     "name": "stdout",
     "output_type": "stream",
     "text": [
      "1 2 3 4 5 6 7 8 9 10 \n",
      "2 4 6 8 10 12 14 16 18 20 \n",
      "3 6 9 12 15 18 21 24 27 30 \n",
      "4 8 12 16 20 24 28 32 36 40 \n",
      "5 10 15 20 25 30 35 40 45 50 \n",
      "6 12 18 24 30 36 42 48 54 60 \n",
      "7 14 21 28 35 42 49 56 63 70 \n",
      "8 16 24 32 40 48 56 64 72 80 \n",
      "9 18 27 36 45 54 63 72 81 90 \n",
      "10 20 30 40 50 60 70 80 90 100 \n"
     ]
    }
   ],
   "source": [
    "# outer loop\n",
    "#iterate through all the numbers within a range from 1 to 10\n",
    "for i in range(1, 11):\n",
    "    # inner loop\n",
    "    # to iterate from 1 to 10\n",
    "    for j in range(1, 11):\n",
    "        # print multiplication\n",
    "        print(i * j, end=' ') #Python’s print() function comes with a parameter called ‘end’. By default, the value of this parameter is ‘\\n’, i.e. the new line character.\n",
    "    #print the value of each iteration of theo outer loop\n",
    "    print()"
   ]
  },
  {
   "cell_type": "code",
   "execution_count": 25,
   "id": "3280daf1",
   "metadata": {},
   "outputs": [
    {
     "name": "stdout",
     "output_type": "stream",
     "text": [
      "[22, 32, 42]\n",
      "[22, 32, 42, 23, 33, 43]\n",
      "[22, 32, 42, 23, 33, 43, 24, 34, 44]\n"
     ]
    }
   ],
   "source": [
    "#Define two lists\n",
    "first = [2, 3, 4]\n",
    "second = [20, 30, 40]\n",
    "#initialise the list that will store the outputs\n",
    "final = []\n",
    "\n",
    "# outer loop\n",
    "#iterate through all the numbers in \"first\" list\n",
    "for i in first:\n",
    "    # inner loop\n",
    "    # to iterate through all the numbers in \"second\" list\n",
    "    for j in second:\n",
    "        #calculate the sum of each element and put the result in \"final\" list\n",
    "        final.append(i+j)\n",
    "    #print the output in \"final\" list        \n",
    "    print(final)"
   ]
  },
  {
   "cell_type": "markdown",
   "id": "0fbebf4d",
   "metadata": {},
   "source": [
    "## $\\color{red}{\\text{Nested if statements}}$"
   ]
  },
  {
   "cell_type": "code",
   "execution_count": 27,
   "id": "8a806ed0",
   "metadata": {},
   "outputs": [
    {
     "name": "stdout",
     "output_type": "stream",
     "text": [
      "Enter a number: 5\n",
      "Positive number\n"
     ]
    }
   ],
   "source": [
    "#Ask the user to enter a number\n",
    "num = float(input(\"Enter a number: \"))\n",
    "\n",
    "#Outer condition\n",
    "if num >= 0: #test if the number is positive\n",
    "    if num == 0: #if the number is positive, test whether is equal to zero\n",
    "        print(\"Zero\")\n",
    "    else: #if the number is not zero, display that it's positive\n",
    "        print(\"Positive number\")\n",
    "else: #if the result of the outer condition is false, print that the number is negative\n",
    "    print(\"Negative number\")"
   ]
  },
  {
   "cell_type": "markdown",
   "id": "3955137c",
   "metadata": {},
   "source": [
    " ## $\\color{red}{\\text{Nested If statement and a for loop}}$"
   ]
  },
  {
   "cell_type": "markdown",
   "id": "ec330f89",
   "metadata": {},
   "source": [
    " ### $\\color{green}{\\text{The different use of \"break\" and \"continue\" commands}}$"
   ]
  },
  {
   "cell_type": "code",
   "execution_count": 35,
   "id": "aa0a283f",
   "metadata": {},
   "outputs": [
    {
     "name": "stdout",
     "output_type": "stream",
     "text": [
      "apple\n"
     ]
    }
   ],
   "source": [
    "fruits = [\"apple\", \"banana\", \"cherry\"]\n",
    "for x in fruits:\n",
    "    if x == \"banana\":\n",
    "        break\n",
    "    print(x)"
   ]
  },
  {
   "cell_type": "code",
   "execution_count": 36,
   "id": "bb4abe86",
   "metadata": {},
   "outputs": [
    {
     "name": "stdout",
     "output_type": "stream",
     "text": [
      "apple\n",
      "cherry\n"
     ]
    }
   ],
   "source": [
    "fruits = [\"apple\", \"banana\", \"cherry\"]\n",
    "for x in fruits:\n",
    "    if x == \"banana\":\n",
    "        continue\n",
    "    print(x)"
   ]
  },
  {
   "cell_type": "markdown",
   "id": "f98fc2c1",
   "metadata": {},
   "source": [
    " ## $\\color{red}{\\text{Example: Finding the root of a function using Bisection Method}}$\n",
    " \n",
    "The bisection method is a root-finding method that applies to any continuous function for which one knows two values with opposite signs.\n",
    " \n",
    "Here, we will use this method to find the roots for the function: $f(x) = x^3+1 =0$"
   ]
  },
  {
   "cell_type": "code",
   "execution_count": 4,
   "id": "1168d0cf",
   "metadata": {},
   "outputs": [
    {
     "data": {
      "text/plain": [
       "(-5.0, 5.0, -10.0, 10.0)"
      ]
     },
     "execution_count": 4,
     "metadata": {},
     "output_type": "execute_result"
    },
    {
     "data": {
      "image/png": "[encoded data removed]",
      "text/plain": [
       "<Figure size 432x288 with 1 Axes>"
      ]
     },
     "metadata": {
      "needs_background": "light"
     },
     "output_type": "display_data"
    }
   ],
   "source": [
    "import matplotlib.pyplot as plt #plotting package\n",
    "import numpy as np\n",
    "\n",
    "dx = 0.1 #the step size\n",
    "x = np.arange(-10,10+dx,dx) #the range where the function lies within\n",
    "y = x**3+1 # the function\n",
    "y2 = 0*y # plot the y=0 line\n",
    "\n",
    "plt.plot(x,y) #plot the function\n",
    "plt.plot(x,y2) #plot the zero line\n",
    "plt.xlabel(\"$x$\", fontsize=18) #x label\n",
    "plt.ylabel(\"$f(x)=x^3+1$\", fontsize=18) #y label\n",
    "plt.axis([-5, 5, -10, 10]) #the size of the plot"
   ]
  },
  {
   "cell_type": "markdown",
   "id": "4bef248c",
   "metadata": {},
   "source": [
    "Algorithm for bisection iterative method"
   ]
  },
  {
   "cell_type": "code",
   "execution_count": 6,
   "id": "7f752c8a",
   "metadata": {},
   "outputs": [
    {
     "name": "stdout",
     "output_type": "stream",
     "text": [
      "The root of the function is:  -1.0\n",
      "The value of the fucntion is:  0.0\n",
      "The number of iterations is:  2\n"
     ]
    }
   ],
   "source": [
    "xr = -4 #Initial left boundary\n",
    "xl = 4 #Initial right boundary\n",
    "\n",
    "#bisection iterative method\n",
    "#construct iterations\n",
    "for j in range(0, 100): \n",
    "    xc = (xr + xl)/2 #calculate the midpoint\n",
    "    fc = xc**3+1 #calculate the function at xc\n",
    "    #first embedded condition\n",
    "    if ( fc > 0 ):\n",
    "        xl = xc #move left boundary    \n",
    "    else:\n",
    "        xr = xc #move right boundary\n",
    "    #second embedded condition    \n",
    "    if ( abs(fc) < 1e-5 ): #calculate the tolerance        \n",
    "        print('The root of the function is: ', xc)\n",
    "        print('The value of the fucntion is: ', fc)\n",
    "        print('The number of iterations is: ', j) #show how many iterations used to achieve the root\n",
    "        break #quit the loop"
   ]
  },
  {
   "cell_type": "markdown",
   "id": "ede28a9f",
   "metadata": {},
   "source": [
    "# Functions"
   ]
  },
  {
   "cell_type": "markdown",
   "id": "e43af991",
   "metadata": {},
   "source": [
    "$\\color{red}{\\text{Construct a function that computs $y=x^3+\\sin(x)$}}$"
   ]
  },
  {
   "cell_type": "code",
   "execution_count": 1,
   "id": "c4af27d5",
   "metadata": {},
   "outputs": [
    {
     "data": {
      "text/plain": [
       "1.8414709848078965"
      ]
     },
     "metadata": {},
     "output_type": "display_data"
    },
    {
     "data": {
      "text/plain": [
       "array([  0.        ,   1.84147098,   8.90929743,  27.14112001,\n",
       "        63.2431975 , 124.04107573, 215.7205845 , 343.6569866 ,\n",
       "       512.98935825, 729.41211849, 999.45597889])"
      ]
     },
     "metadata": {},
     "output_type": "display_data"
    }
   ],
   "source": [
    "#importing numpy package\n",
    "import numpy as np\n",
    "\n",
    "#defining a function that computes x^3+sin(x)\n",
    "def myfun(x): #myfun is the name of the function and x is its input or argument   \n",
    "    y = x**3 + np.sin(x) #the formula to compute\n",
    "    return y #show the final result\n",
    "\n",
    "# single input to the function\n",
    "out1 = myfun(1) #call \"myfun\" function to compute its formula when the argument=1\n",
    "display(out1) #show the result\n",
    "\n",
    "# vector of inputs to the function\n",
    "x = np.arange(0,11,1) #define a list of values within a range from 0 to 10 with a step of 1\n",
    "out2 = myfun(x) #call the \"myfun\" function and compute its formula at each value of x list\n",
    "display(out2) #show the result"
   ]
  },
  {
   "cell_type": "markdown",
   "id": "27c42f15",
   "metadata": {},
   "source": [
    "$\\color{red}{\\text{Construct a function that computes $f_{A}=\\sin(B x)$ where $B = A^2+\\cos(A)$}}$"
   ]
  },
  {
   "cell_type": "code",
   "execution_count": 2,
   "id": "11e51e4b",
   "metadata": {
    "scrolled": true
   },
   "outputs": [
    {
     "data": {
      "text/plain": [
       "(-0.970375821283421, 3.5838531634528574)"
      ]
     },
     "metadata": {},
     "output_type": "display_data"
    }
   ],
   "source": [
    "def funcA(x,A): #funcA is the name of the function and x and A are its inputs or arguments  \n",
    "    B = A**2 + np.cos(A) #the formula to compute\n",
    "    fA = np.sin(B*x) #Use B from before, and comoute this   \n",
    "    return fA,B #show both values of B and fA\n",
    "\n",
    "# multiple inputs and outputs for a function\n",
    "out3 = funcA(3,2) #call \"funcA\" function to compute its formulae when the arguments=3,2\n",
    "display(out3) #show the result\n"
   ]
  },
  {
   "cell_type": "markdown",
   "id": "75746466",
   "metadata": {},
   "source": [
    "$\\color{red}{\\text{Construct a function that evaluates whether a number in a given list is positive, negative or zero.}}$"
   ]
  },
  {
   "cell_type": "code",
   "execution_count": 11,
   "id": "9be3314c",
   "metadata": {},
   "outputs": [
    {
     "name": "stdout",
     "output_type": "stream",
     "text": [
      "Positive number\n",
      "Positive number\n",
      "Negative number\n",
      "Positive number\n",
      "Zero\n"
     ]
    }
   ],
   "source": [
    "def number(x): #number is the name of the function and x is its argument (it should be a list)\n",
    "    for num in x: #a loop that goes over the elements of the list x\n",
    "        if num >= 0: #fist condition to test if each element is positive\n",
    "            if num == 0: #second condition to test if each element is zero\n",
    "                print(\"Zero\")\n",
    "            else:\n",
    "                print(\"Positive number\")\n",
    "        else: #if none of before is satisfied, then the element is negative\n",
    "            print(\"Negative number\")\n",
    "\n",
    "#define a list of number A           \n",
    "A = [4,5,-6,7,0]\n",
    "#call function \"number\" and test the numbers in list A\n",
    "out4 = number(A)"
   ]
  },
  {
   "cell_type": "markdown",
   "id": "88d6da3b",
   "metadata": {},
   "source": [
    "$\\color{red}{\\text{Problem: Simple Harmonic Motion}}$ \n",
    "\n",
    "<img src=\"SHM.jpg\" width=\"500\" height=\"600\">\n"
   ]
  },
  {
   "cell_type": "code",
   "execution_count": 5,
   "id": "26fa4061",
   "metadata": {},
   "outputs": [
    {
     "name": "stdout",
     "output_type": "stream",
     "text": [
      "([-3.0, -3.0, -3.0, -3.0], [-15.0, -10.0, -7.5, -6.0], [31.622776601683793, 25.819888974716115, 22.360679774997898, 20.0], [49.6729413289805, 40.55778675973612, 35.12407365520363, 31.41592653589793], [0.020131684841794818, 0.024656177762459992, 0.02847050173668708, 0.03183098861837907], [0.016000000000000004, 0.024000000000000004, 0.03200000000000001, 0.04000000000000001], [0.0225, 0.0225, 0.0225, 0.0225], [0.038500000000000006, 0.0465, 0.05450000000000001, 0.0625])\n"
     ]
    }
   ],
   "source": [
    "#import numpy library\n",
    "import numpy as np\n",
    "\n",
    "#define the function to compute SHM main quantities for sevral masses\n",
    "def SHM(k,x,m,v):\n",
    "    #Define the final arrays for all quantities\n",
    "    F = list() \n",
    "    ax = list()\n",
    "    w  = list()\n",
    "    f  = list()\n",
    "    T  = list()\n",
    "    Ek = list()\n",
    "    Ep = list()\n",
    "    Et = list()\n",
    "    #Go over all the values of masses and calculate quanitties for each one\n",
    "    for i in range(0,len(m)):       \n",
    "        Fx = -k*x            #Restoring force\n",
    "        F.append(Fx)        #keep this value and add it to the final list\n",
    "        ax1 = -(k/m[i])*x     #Acceleration\n",
    "        ax.append(ax1)        #keep this value and add it to the final list\n",
    "        w1  = np.sqrt(k/m[i]) #Angular frequency\n",
    "        w.append(w1)          #keep this value and add it to the final list\n",
    "        f1  = w1/2*(np.pi)    #Frequency. This can aslo be computed using w = (1/(2*np.pi))*(np.sqrt(k/m)) \n",
    "        f.append(f1)          #keep this value and add it to the final list\n",
    "        T1  = 1/f1            #Period. This can also be computed using T = (2*np.pi)/w or T = 2*(np.pi)*(np.sqrt(m/k))\n",
    "        T.append(T1)          #keep this value and add it to the final list\n",
    "        Ek1 = (1/2)*m[i]*v**2 #Kinetic energy\n",
    "        Ek.append(Ek1)        #keep this value and add it to the final list\n",
    "        Ep1 = (1/2)*k*x**2    #Potential energy\n",
    "        Ep.append(Ep1)        #keep this value and add it to the final list\n",
    "        Et1 = Ek1 + Ep1       #Total Mechanical energy. This can aslo be computed using Et = (1/2)*k*A^2\n",
    "        Et.append(Et1)        #keep this value and add it to the final list       \n",
    "    #return all the final lists\n",
    "    return F, ax, w, f, T, Ek, Ep, Et \n",
    "\n",
    "#Define the values you want to use for calculation\n",
    "m = [0.2, 0.3, 0.4, 0.5] #kg\n",
    "k = 200   #N/m\n",
    "x = 0.015 #m\n",
    "v = 0.40  #m.sec^-2\n",
    "\n",
    "#Call the function\n",
    "out = SHM(k,x,m,v)\n",
    "\n",
    "#disaply the results\n",
    "print(out)\n",
    "\n",
    "#-----------------------\n",
    "#or, another way of writting this code is as:\n",
    "#import numpy library\n",
    "#import numpy as np\n",
    "#define the function to compute SHM main quantities for sevral masses\n",
    "#def SHM(k,x,m,v):\n",
    "#    iters = [] #create empty list\n",
    "#    for i in range(0,len(m)):\n",
    "#        Fx = -k*x \n",
    "#        ax = -(k/m[i])*x \n",
    "#        w  = np.sqrt(k/m[i]) \n",
    "#        f  = w/2*(np.pi) \n",
    "#        T  = 1/f \n",
    "#        Ek = (1/2)*m[i]*v**2 \n",
    "#        Ep = (1/2)*k*x**2 \n",
    "#        Et = Ek + Ep \n",
    "#        iter = [Fx, ax, w, f, T, Ek, Ep, Et]\n",
    "#        iters.append(iter)    \n",
    "#    return iters\n",
    "#Define the values you want to use for calculation\n",
    "#m = [0.2, 0.3, 0.4, 0.5]\n",
    "#k = 200\n",
    "#x = 0.015\n",
    "#v = 0.40\n",
    "#Call the function\n",
    "#out = SHM(k,x,m,v)\n",
    "#display the results\n",
    "#display(out)\n",
    "#-----------------------"
   ]
  },
  {
   "cell_type": "code",
   "execution_count": null,
   "id": "1cf88ae7",
   "metadata": {},
   "outputs": [],
   "source": []
  }
 ],
 "metadata": {
  "kernelspec": {
   "display_name": "Python 3 (ipykernel)",
   "language": "python",
   "name": "python3"
  },
  "language_info": {
   "codemirror_mode": {
    "name": "ipython",
    "version": 3
   },
   "file_extension": ".py",
   "mimetype": "text/x-python",
   "name": "python",
   "nbconvert_exporter": "python",
   "pygments_lexer": "ipython3",
   "version": "3.8.12"
  }
 },
 "nbformat": 4,
 "nbformat_minor": 5
}
